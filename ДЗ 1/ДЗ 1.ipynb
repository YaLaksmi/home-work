{
 "cells": [
  {
   "cell_type": "markdown",
   "id": "cbc90ed7-1a4d-4f26-8a33-fbc95e5c46e6",
   "metadata": {},
   "source": [
    "# Задание\r\n",
    "Вопросы по заданию\r\n",
    "Преподаватель: Константин Башевой\r\n",
    "Домашнее задани## е\r\n",
    "\r\n",
    "Задание 1\r\n",
    "Датасет для домашнего задания вы найдете в разделе “Материалы к домашнему заданию” (файл “Дополнительные файлы для домашнего задания”) к этому занятию.\r\n",
    "Определите, какому фильму было выставлено больше всего оценок##  5.0.\r\n",
    "\r\n",
    "Задание 2\r\n",
    "По данным файла power.csv (находится в архиве в разделе Материалы к лекции «Библиотека Pandas» - файл “Дополнительные файлы для домашнего задания”) посчитайте суммарное потребление стран Прибалтики (Латвия, Литва и Эстония) категорий 4, 12 и 21 за период с 2005 по 2010 год. Не учитывайте в расчётах отрицательныеquantity## uantity.\r\n",
    "\r\n",
    "Задание 3\r\n",
    "Выберите страницу любого сайта с табличными данными. Импортируйте таблицы в pandas DataFrame. Вы можете взять любые страницы.\r\n",
    "Примеры страниц:"
   ]
  },
  {
   "cell_type": "markdown",
   "id": "36e09d93-da9b-4b67-b5eb-5597fe1200e2",
   "metadata": {},
   "source": [
    "## Задание 1"
   ]
  },
  {
   "cell_type": "code",
   "execution_count": 62,
   "id": "f653603d-bd4c-4e6e-b2be-4cd72824f100",
   "metadata": {},
   "outputs": [],
   "source": [
    "import pandas as pd"
   ]
  },
  {
   "cell_type": "code",
   "execution_count": 63,
   "id": "a3ebe025-f5f8-4a21-a861-14263c36e798",
   "metadata": {},
   "outputs": [],
   "source": [
    "movies_ds = pd.read_csv('movies.csv')"
   ]
  },
  {
   "cell_type": "code",
   "execution_count": 64,
   "id": "2f3ce481-1d0f-4d97-852c-4a9e3d9db2ee",
   "metadata": {},
   "outputs": [
    {
     "data": {
      "text/html": [
       "<div>\n",
       "<style scoped>\n",
       "    .dataframe tbody tr th:only-of-type {\n",
       "        vertical-align: middle;\n",
       "    }\n",
       "\n",
       "    .dataframe tbody tr th {\n",
       "        vertical-align: top;\n",
       "    }\n",
       "\n",
       "    .dataframe thead th {\n",
       "        text-align: right;\n",
       "    }\n",
       "</style>\n",
       "<table border=\"1\" class=\"dataframe\">\n",
       "  <thead>\n",
       "    <tr style=\"text-align: right;\">\n",
       "      <th></th>\n",
       "      <th>movieId</th>\n",
       "      <th>title</th>\n",
       "      <th>genres</th>\n",
       "    </tr>\n",
       "  </thead>\n",
       "  <tbody>\n",
       "    <tr>\n",
       "      <th>0</th>\n",
       "      <td>1</td>\n",
       "      <td>Toy Story (1995)</td>\n",
       "      <td>Adventure|Animation|Children|Comedy|Fantasy</td>\n",
       "    </tr>\n",
       "    <tr>\n",
       "      <th>1</th>\n",
       "      <td>2</td>\n",
       "      <td>Jumanji (1995)</td>\n",
       "      <td>Adventure|Children|Fantasy</td>\n",
       "    </tr>\n",
       "    <tr>\n",
       "      <th>2</th>\n",
       "      <td>3</td>\n",
       "      <td>Grumpier Old Men (1995)</td>\n",
       "      <td>Comedy|Romance</td>\n",
       "    </tr>\n",
       "    <tr>\n",
       "      <th>3</th>\n",
       "      <td>4</td>\n",
       "      <td>Waiting to Exhale (1995)</td>\n",
       "      <td>Comedy|Drama|Romance</td>\n",
       "    </tr>\n",
       "    <tr>\n",
       "      <th>4</th>\n",
       "      <td>5</td>\n",
       "      <td>Father of the Bride Part II (1995)</td>\n",
       "      <td>Comedy</td>\n",
       "    </tr>\n",
       "  </tbody>\n",
       "</table>\n",
       "</div>"
      ],
      "text/plain": [
       "   movieId                               title  \\\n",
       "0        1                    Toy Story (1995)   \n",
       "1        2                      Jumanji (1995)   \n",
       "2        3             Grumpier Old Men (1995)   \n",
       "3        4            Waiting to Exhale (1995)   \n",
       "4        5  Father of the Bride Part II (1995)   \n",
       "\n",
       "                                        genres  \n",
       "0  Adventure|Animation|Children|Comedy|Fantasy  \n",
       "1                   Adventure|Children|Fantasy  \n",
       "2                               Comedy|Romance  \n",
       "3                         Comedy|Drama|Romance  \n",
       "4                                       Comedy  "
      ]
     },
     "execution_count": 64,
     "metadata": {},
     "output_type": "execute_result"
    }
   ],
   "source": [
    "movies_ds.head()"
   ]
  },
  {
   "cell_type": "code",
   "execution_count": 65,
   "id": "419cab88-77a0-40db-ac42-97759d238661",
   "metadata": {},
   "outputs": [],
   "source": [
    "raiting_ds = pd.read_csv('ratings.csv')"
   ]
  },
  {
   "cell_type": "code",
   "execution_count": 66,
   "id": "646c4f5b-ec8b-4d9b-8040-f2335bc98058",
   "metadata": {},
   "outputs": [
    {
     "data": {
      "text/html": [
       "<div>\n",
       "<style scoped>\n",
       "    .dataframe tbody tr th:only-of-type {\n",
       "        vertical-align: middle;\n",
       "    }\n",
       "\n",
       "    .dataframe tbody tr th {\n",
       "        vertical-align: top;\n",
       "    }\n",
       "\n",
       "    .dataframe thead th {\n",
       "        text-align: right;\n",
       "    }\n",
       "</style>\n",
       "<table border=\"1\" class=\"dataframe\">\n",
       "  <thead>\n",
       "    <tr style=\"text-align: right;\">\n",
       "      <th></th>\n",
       "      <th>userId</th>\n",
       "      <th>movieId</th>\n",
       "      <th>rating</th>\n",
       "      <th>timestamp</th>\n",
       "    </tr>\n",
       "  </thead>\n",
       "  <tbody>\n",
       "    <tr>\n",
       "      <th>0</th>\n",
       "      <td>1</td>\n",
       "      <td>1</td>\n",
       "      <td>4.0</td>\n",
       "      <td>964982703</td>\n",
       "    </tr>\n",
       "    <tr>\n",
       "      <th>1</th>\n",
       "      <td>1</td>\n",
       "      <td>3</td>\n",
       "      <td>4.0</td>\n",
       "      <td>964981247</td>\n",
       "    </tr>\n",
       "    <tr>\n",
       "      <th>2</th>\n",
       "      <td>1</td>\n",
       "      <td>6</td>\n",
       "      <td>4.0</td>\n",
       "      <td>964982224</td>\n",
       "    </tr>\n",
       "    <tr>\n",
       "      <th>3</th>\n",
       "      <td>1</td>\n",
       "      <td>47</td>\n",
       "      <td>5.0</td>\n",
       "      <td>964983815</td>\n",
       "    </tr>\n",
       "    <tr>\n",
       "      <th>4</th>\n",
       "      <td>1</td>\n",
       "      <td>50</td>\n",
       "      <td>5.0</td>\n",
       "      <td>964982931</td>\n",
       "    </tr>\n",
       "    <tr>\n",
       "      <th>...</th>\n",
       "      <td>...</td>\n",
       "      <td>...</td>\n",
       "      <td>...</td>\n",
       "      <td>...</td>\n",
       "    </tr>\n",
       "    <tr>\n",
       "      <th>995</th>\n",
       "      <td>7</td>\n",
       "      <td>8972</td>\n",
       "      <td>2.5</td>\n",
       "      <td>1111552650</td>\n",
       "    </tr>\n",
       "    <tr>\n",
       "      <th>996</th>\n",
       "      <td>7</td>\n",
       "      <td>8984</td>\n",
       "      <td>4.0</td>\n",
       "      <td>1106636101</td>\n",
       "    </tr>\n",
       "    <tr>\n",
       "      <th>997</th>\n",
       "      <td>7</td>\n",
       "      <td>27741</td>\n",
       "      <td>3.0</td>\n",
       "      <td>1107474020</td>\n",
       "    </tr>\n",
       "    <tr>\n",
       "      <th>998</th>\n",
       "      <td>7</td>\n",
       "      <td>30812</td>\n",
       "      <td>3.5</td>\n",
       "      <td>1113353083</td>\n",
       "    </tr>\n",
       "    <tr>\n",
       "      <th>999</th>\n",
       "      <td>7</td>\n",
       "      <td>30816</td>\n",
       "      <td>2.0</td>\n",
       "      <td>1107127004</td>\n",
       "    </tr>\n",
       "  </tbody>\n",
       "</table>\n",
       "<p>1000 rows × 4 columns</p>\n",
       "</div>"
      ],
      "text/plain": [
       "     userId  movieId  rating   timestamp\n",
       "0         1        1     4.0   964982703\n",
       "1         1        3     4.0   964981247\n",
       "2         1        6     4.0   964982224\n",
       "3         1       47     5.0   964983815\n",
       "4         1       50     5.0   964982931\n",
       "..      ...      ...     ...         ...\n",
       "995       7     8972     2.5  1111552650\n",
       "996       7     8984     4.0  1106636101\n",
       "997       7    27741     3.0  1107474020\n",
       "998       7    30812     3.5  1113353083\n",
       "999       7    30816     2.0  1107127004\n",
       "\n",
       "[1000 rows x 4 columns]"
      ]
     },
     "execution_count": 66,
     "metadata": {},
     "output_type": "execute_result"
    }
   ],
   "source": [
    "raiting_ds.head(1000)"
   ]
  },
  {
   "cell_type": "markdown",
   "id": "67c7c7f8-bacc-4116-9246-d3561d855c7b",
   "metadata": {},
   "source": [
    "## <span style=\"color:blue;\">Решение задания 1</span>\n",
    "---"
   ]
  },
  {
   "cell_type": "code",
   "execution_count": 67,
   "id": "8bd7e59a-3cbf-4196-bdbd-b3ee6fae2cc9",
   "metadata": {},
   "outputs": [
    {
     "data": {
      "text/html": [
       "<div>\n",
       "<style scoped>\n",
       "    .dataframe tbody tr th:only-of-type {\n",
       "        vertical-align: middle;\n",
       "    }\n",
       "\n",
       "    .dataframe tbody tr th {\n",
       "        vertical-align: top;\n",
       "    }\n",
       "\n",
       "    .dataframe thead th {\n",
       "        text-align: right;\n",
       "    }\n",
       "</style>\n",
       "<table border=\"1\" class=\"dataframe\">\n",
       "  <thead>\n",
       "    <tr style=\"text-align: right;\">\n",
       "      <th></th>\n",
       "      <th>userId</th>\n",
       "      <th>movieId</th>\n",
       "      <th>rating</th>\n",
       "      <th>timestamp</th>\n",
       "    </tr>\n",
       "  </thead>\n",
       "  <tbody>\n",
       "    <tr>\n",
       "      <th>3</th>\n",
       "      <td>1</td>\n",
       "      <td>47</td>\n",
       "      <td>5.0</td>\n",
       "      <td>964983815</td>\n",
       "    </tr>\n",
       "    <tr>\n",
       "      <th>4</th>\n",
       "      <td>1</td>\n",
       "      <td>50</td>\n",
       "      <td>5.0</td>\n",
       "      <td>964982931</td>\n",
       "    </tr>\n",
       "    <tr>\n",
       "      <th>6</th>\n",
       "      <td>1</td>\n",
       "      <td>101</td>\n",
       "      <td>5.0</td>\n",
       "      <td>964980868</td>\n",
       "    </tr>\n",
       "    <tr>\n",
       "      <th>8</th>\n",
       "      <td>1</td>\n",
       "      <td>151</td>\n",
       "      <td>5.0</td>\n",
       "      <td>964984041</td>\n",
       "    </tr>\n",
       "    <tr>\n",
       "      <th>9</th>\n",
       "      <td>1</td>\n",
       "      <td>157</td>\n",
       "      <td>5.0</td>\n",
       "      <td>964984100</td>\n",
       "    </tr>\n",
       "  </tbody>\n",
       "</table>\n",
       "</div>"
      ],
      "text/plain": [
       "   userId  movieId  rating  timestamp\n",
       "3       1       47     5.0  964983815\n",
       "4       1       50     5.0  964982931\n",
       "6       1      101     5.0  964980868\n",
       "8       1      151     5.0  964984041\n",
       "9       1      157     5.0  964984100"
      ]
     },
     "execution_count": 67,
     "metadata": {},
     "output_type": "execute_result"
    }
   ],
   "source": [
    "#отфильтруем датасец с оценками фильмов по условию рейтинг 5\n",
    "raiting_5_ps = raiting_ds[raiting_ds['rating']==5]\n",
    "raiting_5_ps.head()\n",
    "# len(raiting_5_ps)"
   ]
  },
  {
   "cell_type": "code",
   "execution_count": 68,
   "id": "1b02cf3f-74f2-4316-811e-883627c63759",
   "metadata": {},
   "outputs": [
    {
     "data": {
      "text/plain": [
       "movieId\n",
       "318     153\n",
       "296     123\n",
       "356     116\n",
       "2571    109\n",
       "260     104\n",
       "Name: count, dtype: int64"
      ]
     },
     "execution_count": 68,
     "metadata": {},
     "output_type": "execute_result"
    }
   ],
   "source": [
    "# посчитаем количество оценок для каждого фильма\n",
    "raiting_5_count_ds = raiting_5_ps['movieId'].value_counts()\n",
    "raiting_5_count_ds.head()"
   ]
  },
  {
   "cell_type": "code",
   "execution_count": 69,
   "id": "1c59b71c-93e4-4481-a5ed-8e5da925c4e2",
   "metadata": {},
   "outputs": [
    {
     "data": {
      "text/plain": [
       "318"
      ]
     },
     "execution_count": 69,
     "metadata": {},
     "output_type": "execute_result"
    }
   ],
   "source": [
    "# определим id фильма с максимальным количеством пятерок\n",
    "max_count_5_movie_id = raiting_5_count_ds.idxmax()\n",
    "max_count_5_movie_id"
   ]
  },
  {
   "cell_type": "code",
   "execution_count": 70,
   "id": "e921f419-c6d9-45da-9c61-bdac1274f75b",
   "metadata": {},
   "outputs": [
    {
     "data": {
      "text/plain": [
       "153"
      ]
     },
     "execution_count": 70,
     "metadata": {},
     "output_type": "execute_result"
    }
   ],
   "source": [
    "# определим максимальное количество 5\n",
    "max_count_5_movie = raiting_5_count_ds.max()\n",
    "max_count_5_movie"
   ]
  },
  {
   "cell_type": "code",
   "execution_count": 71,
   "id": "8a1af616-d111-4cb0-af4c-263dea49f3eb",
   "metadata": {},
   "outputs": [
    {
     "data": {
      "text/plain": [
       "'Shawshank Redemption, The (1994)'"
      ]
     },
     "execution_count": 71,
     "metadata": {},
     "output_type": "execute_result"
    }
   ],
   "source": [
    "# получаем название фильма по идентификатору\n",
    "max_count_5_movie_title = movies_ds[movies_ds['movieId'] == max_count_5_movie_id].iloc[0]\n",
    "max_count_5_movie_title['title']"
   ]
  },
  {
   "cell_type": "markdown",
   "id": "540ef1a3-0467-4179-8976-977a173bb4ce",
   "metadata": {},
   "source": [
    "#### <span style=\"color:blue;\">Ответ к заданию 1</span>"
   ]
  },
  {
   "cell_type": "code",
   "execution_count": 72,
   "id": "e709951a-91ca-4ba0-9904-8cc60e0b07df",
   "metadata": {},
   "outputs": [
    {
     "name": "stdout",
     "output_type": "stream",
     "text": [
      "Фильм с наибольшим количеством оценок 5.0: Shawshank Redemption, The (1994) \n",
      "количество 5: 153  \n"
     ]
    }
   ],
   "source": [
    "print(f'Фильм с наибольшим количеством оценок 5.0: {max_count_5_movie_title[\"title\"]} \\nколичество 5: {max_count_5_movie}  ')"
   ]
  },
  {
   "cell_type": "markdown",
   "id": "9b6fd786-b883-4660-b761-8994bbafba83",
   "metadata": {},
   "source": [
    "## <span style=\"color:blue;\">Решение задания 2</span>\n",
    "---"
   ]
  },
  {
   "cell_type": "code",
   "execution_count": 73,
   "id": "8ef117a9-fd99-4c50-9639-5648ba905811",
   "metadata": {},
   "outputs": [],
   "source": [
    "power_ds = pd.read_csv('power.csv')"
   ]
  },
  {
   "cell_type": "code",
   "execution_count": 74,
   "id": "930111ea-e105-49e1-b145-d7766e1810fd",
   "metadata": {},
   "outputs": [
    {
     "data": {
      "text/html": [
       "<div>\n",
       "<style scoped>\n",
       "    .dataframe tbody tr th:only-of-type {\n",
       "        vertical-align: middle;\n",
       "    }\n",
       "\n",
       "    .dataframe tbody tr th {\n",
       "        vertical-align: top;\n",
       "    }\n",
       "\n",
       "    .dataframe thead th {\n",
       "        text-align: right;\n",
       "    }\n",
       "</style>\n",
       "<table border=\"1\" class=\"dataframe\">\n",
       "  <thead>\n",
       "    <tr style=\"text-align: right;\">\n",
       "      <th></th>\n",
       "      <th>country</th>\n",
       "      <th>year</th>\n",
       "      <th>quantity</th>\n",
       "      <th>category</th>\n",
       "    </tr>\n",
       "  </thead>\n",
       "  <tbody>\n",
       "    <tr>\n",
       "      <th>0</th>\n",
       "      <td>Austria</td>\n",
       "      <td>1996</td>\n",
       "      <td>5.0</td>\n",
       "      <td>1</td>\n",
       "    </tr>\n",
       "    <tr>\n",
       "      <th>1</th>\n",
       "      <td>Austria</td>\n",
       "      <td>1995</td>\n",
       "      <td>17.0</td>\n",
       "      <td>1</td>\n",
       "    </tr>\n",
       "    <tr>\n",
       "      <th>2</th>\n",
       "      <td>Belgium</td>\n",
       "      <td>2014</td>\n",
       "      <td>0.0</td>\n",
       "      <td>1</td>\n",
       "    </tr>\n",
       "    <tr>\n",
       "      <th>3</th>\n",
       "      <td>Belgium</td>\n",
       "      <td>2013</td>\n",
       "      <td>0.0</td>\n",
       "      <td>1</td>\n",
       "    </tr>\n",
       "    <tr>\n",
       "      <th>4</th>\n",
       "      <td>Belgium</td>\n",
       "      <td>2012</td>\n",
       "      <td>35.0</td>\n",
       "      <td>1</td>\n",
       "    </tr>\n",
       "  </tbody>\n",
       "</table>\n",
       "</div>"
      ],
      "text/plain": [
       "   country  year  quantity  category\n",
       "0  Austria  1996       5.0         1\n",
       "1  Austria  1995      17.0         1\n",
       "2  Belgium  2014       0.0         1\n",
       "3  Belgium  2013       0.0         1\n",
       "4  Belgium  2012      35.0         1"
      ]
     },
     "execution_count": 74,
     "metadata": {},
     "output_type": "execute_result"
    }
   ],
   "source": [
    "power_ds.head()"
   ]
  },
  {
   "cell_type": "code",
   "execution_count": 78,
   "id": "c17a6607-06fd-4d92-baf8-f21bf703aa8f",
   "metadata": {},
   "outputs": [
    {
     "data": {
      "text/html": [
       "<div>\n",
       "<style scoped>\n",
       "    .dataframe tbody tr th:only-of-type {\n",
       "        vertical-align: middle;\n",
       "    }\n",
       "\n",
       "    .dataframe tbody tr th {\n",
       "        vertical-align: top;\n",
       "    }\n",
       "\n",
       "    .dataframe thead th {\n",
       "        text-align: right;\n",
       "    }\n",
       "</style>\n",
       "<table border=\"1\" class=\"dataframe\">\n",
       "  <thead>\n",
       "    <tr style=\"text-align: right;\">\n",
       "      <th></th>\n",
       "      <th>country</th>\n",
       "      <th>year</th>\n",
       "      <th>quantity</th>\n",
       "      <th>category</th>\n",
       "    </tr>\n",
       "  </thead>\n",
       "  <tbody>\n",
       "    <tr>\n",
       "      <th>10617</th>\n",
       "      <td>Estonia</td>\n",
       "      <td>2008</td>\n",
       "      <td>1.0</td>\n",
       "      <td>4</td>\n",
       "    </tr>\n",
       "    <tr>\n",
       "      <th>10620</th>\n",
       "      <td>Estonia</td>\n",
       "      <td>2005</td>\n",
       "      <td>1.0</td>\n",
       "      <td>4</td>\n",
       "    </tr>\n",
       "    <tr>\n",
       "      <th>11156</th>\n",
       "      <td>Lithuania</td>\n",
       "      <td>2008</td>\n",
       "      <td>1.0</td>\n",
       "      <td>4</td>\n",
       "    </tr>\n",
       "    <tr>\n",
       "      <th>11158</th>\n",
       "      <td>Lithuania</td>\n",
       "      <td>2006</td>\n",
       "      <td>1.0</td>\n",
       "      <td>4</td>\n",
       "    </tr>\n",
       "    <tr>\n",
       "      <th>11159</th>\n",
       "      <td>Lithuania</td>\n",
       "      <td>2005</td>\n",
       "      <td>1.0</td>\n",
       "      <td>4</td>\n",
       "    </tr>\n",
       "  </tbody>\n",
       "</table>\n",
       "</div>"
      ],
      "text/plain": [
       "         country  year  quantity  category\n",
       "10617    Estonia  2008       1.0         4\n",
       "10620    Estonia  2005       1.0         4\n",
       "11156  Lithuania  2008       1.0         4\n",
       "11158  Lithuania  2006       1.0         4\n",
       "11159  Lithuania  2005       1.0         4"
      ]
     },
     "execution_count": 78,
     "metadata": {},
     "output_type": "execute_result"
    }
   ],
   "source": [
    "filtered_power_ds = power_ds[\n",
    "    (power_ds['country'].isin(['Latvia', 'Lithuania', 'Estonia'])) &\n",
    "    (power_ds['category'].isin([4, 12, 21])) &\n",
    "    (power_ds['year'].between(2005, 2010)) &\n",
    "    (power_ds['quantity'] > 0)\n",
    "]\n",
    "filtered_power_ds.head()"
   ]
  },
  {
   "cell_type": "code",
   "execution_count": 79,
   "id": "ac3b788f-3828-4b94-afaf-c66e414e85db",
   "metadata": {},
   "outputs": [],
   "source": [
    "sum_consumption = filtered_power_ds['quantity'].sum()"
   ]
  },
  {
   "cell_type": "markdown",
   "id": "56979d77-4d16-4c56-b5d2-1035815febb9",
   "metadata": {},
   "source": [
    "#### <span style=\"color:blue;\">Ответ к заданию 2</span>"
   ]
  },
  {
   "cell_type": "code",
   "execution_count": 81,
   "id": "6da1a61b-b89d-413a-9ac2-9a0eecfc2cb8",
   "metadata": {},
   "outputs": [
    {
     "name": "stdout",
     "output_type": "stream",
     "text": [
      "Суммарное потребление стран Прибалтики при заданных условиях 240580.0\n"
     ]
    }
   ],
   "source": [
    "print(f'Суммарное потребление стран Прибалтики при заданных условиях {sum_consumption}')"
   ]
  },
  {
   "cell_type": "markdown",
   "id": "20e2cde3-665d-492c-a30f-dff12e97d2ec",
   "metadata": {},
   "source": [
    "## <span style=\"color:blue;\">Решение задания 3</span>\n",
    "---"
   ]
  },
  {
   "cell_type": "code",
   "execution_count": 88,
   "id": "fe82b9fc-e259-410b-a427-26fe2ea611c5",
   "metadata": {},
   "outputs": [
    {
     "name": "stdout",
     "output_type": "stream",
     "text": [
      "Requirement already satisfied: html5lib in d:\\users\\maxlpt\\anaconda3\\lib\\site-packages (1.1)\n",
      "Requirement already satisfied: six>=1.9 in d:\\users\\maxlpt\\anaconda3\\lib\\site-packages (from html5lib) (1.16.0)\n",
      "Requirement already satisfied: webencodings in d:\\users\\maxlpt\\anaconda3\\lib\\site-packages (from html5lib) (0.5.1)\n"
     ]
    }
   ],
   "source": [
    "!pip install html5lib"
   ]
  },
  {
   "cell_type": "code",
   "execution_count": 89,
   "id": "2e99d65b-d86b-48ce-b324-97d63980444a",
   "metadata": {},
   "outputs": [
    {
     "name": "stdout",
     "output_type": "stream",
     "text": [
      "Найдено таблиц: 1\n",
      "   Unnamed: 0    #         Name       Price   1h %  24h %   7d %  \\\n",
      "0         NaN  1.0   BitcoinBTC  $60,826.73  0.02%  3.22%  3.09%   \n",
      "1         NaN  2.0  EthereumETH   $2,915.29  0.08%  3.61%  6.10%   \n",
      "2         NaN  3.0   TetherUSDT     $0.9999  0.01%  0.01%  0.08%   \n",
      "3         NaN  4.0       BNBBNB     $583.09  0.16%  1.48%  0.33%   \n",
      "4         NaN  5.0    SolanaSOL     $144.35  0.28%  5.80%  0.44%   \n",
      "\n",
      "                 Market Cap                         Volume(24h)  \\\n",
      "0   $1.2T$1,198,134,769,876          $27,315,735,066449,055 BTC   \n",
      "1  $350.15B$350,154,660,058        $12,020,129,8314,123,113 ETH   \n",
      "2  $110.83B$110,832,233,935  $49,694,992,96549,698,475,741 USDT   \n",
      "3    $86.06B$86,057,184,732         $1,532,177,0202,627,664 BNB   \n",
      "4    $64.73B$64,730,140,112        $2,473,053,16917,132,384 SOL   \n",
      "\n",
      "     Circulating Supply  ...  Unnamed: 94  Unnamed: 95  Unnamed: 96  \\\n",
      "0        19,696,640 BTC  ...          NaN          NaN          NaN   \n",
      "1       120,109,117 ETH  ...          NaN          NaN          NaN   \n",
      "2  110,840,001,396 USDT  ...          NaN          NaN          NaN   \n",
      "3       147,586,967 BNB  ...          NaN          NaN          NaN   \n",
      "4       448,426,099 SOL  ...          NaN          NaN          NaN   \n",
      "\n",
      "   Unnamed: 97  Unnamed: 98  Unnamed: 99  Unnamed: 100  Unnamed: 101  \\\n",
      "0          NaN          NaN          NaN           NaN           NaN   \n",
      "1          NaN          NaN          NaN           NaN           NaN   \n",
      "2          NaN          NaN          NaN           NaN           NaN   \n",
      "3          NaN          NaN          NaN           NaN           NaN   \n",
      "4          NaN          NaN          NaN           NaN           NaN   \n",
      "\n",
      "   Unnamed: 102  Unnamed: 103  \n",
      "0           NaN           NaN  \n",
      "1           NaN           NaN  \n",
      "2           NaN           NaN  \n",
      "3           NaN           NaN  \n",
      "4           NaN           NaN  \n",
      "\n",
      "[5 rows x 104 columns]\n"
     ]
    }
   ],
   "source": [
    "# URL страницы \n",
    "url = 'https://coinmarketcap.com/'\n",
    "\n",
    "# Используем метод read_html для  таблиц с веб-страницы\n",
    "dfs = pd.read_html(url)\n",
    "\n",
    "# Выводим количество найденных таблиц на странице\n",
    "print(f\"Найдено таблиц: {len(dfs)}\")\n",
    "\n",
    "# Просматриваем первые несколько строк первой таблицы для оценки данных\n",
    "print(dfs[0].head())"
   ]
  }
 ],
 "metadata": {
  "kernelspec": {
   "display_name": "Python 3 (ipykernel)",
   "language": "python",
   "name": "python3"
  },
  "language_info": {
   "codemirror_mode": {
    "name": "ipython",
    "version": 3
   },
   "file_extension": ".py",
   "mimetype": "text/x-python",
   "name": "python",
   "nbconvert_exporter": "python",
   "pygments_lexer": "ipython3",
   "version": "3.11.7"
  }
 },
 "nbformat": 4,
 "nbformat_minor": 5
}
